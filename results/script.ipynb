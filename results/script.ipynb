{
 "cells": [
  {
   "cell_type": "code",
   "execution_count": 36,
   "id": "1f9e4d119b81248c",
   "metadata": {
    "collapsed": false,
    "ExecuteTime": {
     "end_time": "2024-02-15T11:39:49.733059800Z",
     "start_time": "2024-02-15T11:39:49.723232700Z"
    }
   },
   "outputs": [],
   "source": [
    "import pandas as pd\n",
    "import numpy as np\n",
    "import seaborn as sns\n",
    "import matplotlib.pyplot as plt\n",
    "sns.set_style(\"ticks\")\n",
    "%matplotlib qt\n",
    "# you can use '%matplotlib inline' for:  plots will open in IDE   "
   ]
  },
  {
   "cell_type": "code",
   "execution_count": 42,
   "id": "1fd1951e1fcf02e2",
   "metadata": {
    "collapsed": false,
    "ExecuteTime": {
     "end_time": "2024-02-15T11:41:03.950688600Z",
     "start_time": "2024-02-15T11:41:03.931719600Z"
    }
   },
   "outputs": [
    {
     "name": "stdout",
     "output_type": "stream",
     "text": [
      "All possible tags + count of images ( the count should be equal 536):\n",
      " ('morf_c&o_d32', 536) ('origin', 536) ('w_filters_d8', 536) ('morf_o_d32', 536) ('morf_c_d32', 536) ('w_filters_m20', 536) ('w_filters_d32', 536)\n"
     ]
    }
   ],
   "source": [
    "# reading files \n",
    "df = pd.read_csv( \"logs.csv\", delimiter=\" \")\n",
    "data = {tag: df.loc[df.tag == tag] for tag in set(df.tag)}\n",
    "print('All possible tags + count of images ( the count should be equal 536):\\n', *[(tag, len(data[tag])) for tag in data.keys()])\n",
    "df.head()\n",
    "\n",
    "# check all the tags\n",
    "# most_actual_tags = [tag for tag in sorted(data, reverse=True)]\n",
    "\n",
    "# use only most actual tags    ** have to be unique tags\n",
    "most_actual_tags = ['origin', 'w_filters_d32', 'morf_c&o_d32', 'morf_c_d32', 'w_filters_m20']"
   ]
  },
  {
   "cell_type": "code",
   "outputs": [],
   "source": [
    "# total count of contours after identify candidates ( distribution )\n",
    "plt.figure(figsize=(4 * len(most_actual_tags),6))\n",
    "for i, tag in enumerate(most_actual_tags):\n",
    "    \n",
    "    plt.subplot(1, len(most_actual_tags), i+1)\n",
    "    plt.title(tag)\n",
    "    sns.scatterplot(x= (data[tag].index - data[tag].index[0]), y=data[tag].total,color='g')\n"
   ],
   "metadata": {
    "collapsed": false,
    "ExecuteTime": {
     "end_time": "2024-02-15T11:39:50.597472400Z",
     "start_time": "2024-02-15T11:39:50.403038100Z"
    }
   },
   "id": "d2ccc8b107f2ab72",
   "execution_count": 38
  },
  {
   "cell_type": "code",
   "outputs": [],
   "source": [
    "# distribution of the number of the total number of contours\n",
    "\n",
    "plt.figure(figsize=(4*len(most_actual_tags),10))\n",
    "for i, tag in enumerate(most_actual_tags):\n",
    "    \n",
    "    total_count = data[tag]['total'].value_counts() \n",
    "    plt.subplot(len(most_actual_tags) // 4 + (len(most_actual_tags) % 4), len(data) // 2 + (len(data) % 2), i+1)\n",
    "    plt.title(tag)\n",
    "    \n",
    "    sns.scatterplot(total_count, color='g')\n"
   ],
   "metadata": {
    "collapsed": false,
    "ExecuteTime": {
     "end_time": "2024-02-15T11:39:53.501155600Z",
     "start_time": "2024-02-15T11:39:53.318618800Z"
    }
   },
   "id": "baffa48535874fca",
   "execution_count": 39
  },
  {
   "cell_type": "code",
   "outputs": [],
   "source": [
    "# count of the total number of contours\n",
    "\n",
    "plt.figure(figsize=(4*len(most_actual_tags),10))\n",
    "means = pd.DataFrame()\n",
    "\n",
    "for i, tag in enumerate(most_actual_tags):\n",
    "   \n",
    "    data[tag] = data[tag].rename({f'depth{i}': f'{i}' for i in range(1,9)}, axis=1).drop(['tag'], axis=1)\n",
    "    means[tag] = data[tag].mean().rename('mean')\n",
    "\n",
    "    plt.subplot(2, len(data)// 2 + len(data) % 2, i+1)\n",
    "    plt.title(tag)\n",
    "    sns.scatterplot(means[tag], color='g')\n",
    "    \n"
   ],
   "metadata": {
    "collapsed": false,
    "ExecuteTime": {
     "end_time": "2024-02-15T11:41:06.273424200Z",
     "start_time": "2024-02-15T11:41:06.049775800Z"
    }
   },
   "id": "2c7487bc1187b3ef",
   "execution_count": 43
  },
  {
   "cell_type": "code",
   "outputs": [
    {
     "data": {
      "text/plain": "   w_filters_m20  w_filters_d8  w_filters_d32     origin  morf_o_d32  \\\n1      91.595149     91.595149      91.595149  91.595149  204.289179   \n2      72.986940     72.986940      72.986940        NaN  138.399254   \n3      55.097015     55.097015      55.097015        NaN   88.001866   \n4      42.345794           NaN      42.345794        NaN   64.654206   \n5      29.555102           NaN      29.494908        NaN   41.920570   \n\n   morf_c_d32  morf_c&o_d32  \n1  174.901119    287.595149  \n2  146.569030    211.981343  \n3  108.160448    141.065299  \n4  104.672897    126.981308  \n5   63.077393     75.503055  ",
      "text/html": "<div>\n<style scoped>\n    .dataframe tbody tr th:only-of-type {\n        vertical-align: middle;\n    }\n\n    .dataframe tbody tr th {\n        vertical-align: top;\n    }\n\n    .dataframe thead th {\n        text-align: right;\n    }\n</style>\n<table border=\"1\" class=\"dataframe\">\n  <thead>\n    <tr style=\"text-align: right;\">\n      <th></th>\n      <th>w_filters_m20</th>\n      <th>w_filters_d8</th>\n      <th>w_filters_d32</th>\n      <th>origin</th>\n      <th>morf_o_d32</th>\n      <th>morf_c_d32</th>\n      <th>morf_c&amp;o_d32</th>\n    </tr>\n  </thead>\n  <tbody>\n    <tr>\n      <th>1</th>\n      <td>91.595149</td>\n      <td>91.595149</td>\n      <td>91.595149</td>\n      <td>91.595149</td>\n      <td>204.289179</td>\n      <td>174.901119</td>\n      <td>287.595149</td>\n    </tr>\n    <tr>\n      <th>2</th>\n      <td>72.986940</td>\n      <td>72.986940</td>\n      <td>72.986940</td>\n      <td>NaN</td>\n      <td>138.399254</td>\n      <td>146.569030</td>\n      <td>211.981343</td>\n    </tr>\n    <tr>\n      <th>3</th>\n      <td>55.097015</td>\n      <td>55.097015</td>\n      <td>55.097015</td>\n      <td>NaN</td>\n      <td>88.001866</td>\n      <td>108.160448</td>\n      <td>141.065299</td>\n    </tr>\n    <tr>\n      <th>4</th>\n      <td>42.345794</td>\n      <td>NaN</td>\n      <td>42.345794</td>\n      <td>NaN</td>\n      <td>64.654206</td>\n      <td>104.672897</td>\n      <td>126.981308</td>\n    </tr>\n    <tr>\n      <th>5</th>\n      <td>29.555102</td>\n      <td>NaN</td>\n      <td>29.494908</td>\n      <td>NaN</td>\n      <td>41.920570</td>\n      <td>63.077393</td>\n      <td>75.503055</td>\n    </tr>\n  </tbody>\n</table>\n</div>"
     },
     "execution_count": 16,
     "metadata": {},
     "output_type": "execute_result"
    }
   ],
   "source": [
    "# average values for each tag and depth\n",
    "means.head()"
   ],
   "metadata": {
    "collapsed": false,
    "ExecuteTime": {
     "end_time": "2024-02-15T03:36:21.017308400Z",
     "start_time": "2024-02-15T03:36:21.001895800Z"
    }
   },
   "id": "c6b1d417abc64396",
   "execution_count": 16
  },
  {
   "cell_type": "code",
   "outputs": [],
   "source": [
    "# box-plots for each tag and depth\n",
    "# ** you can use a zoom in matplotlib window \n",
    "for i, tag in enumerate(most_actual_tags):\n",
    "    \n",
    "    temp_df = data[tag]\n",
    "    plt.figure(figsize=(15, 5))\n",
    "    plt.suptitle(f'{tag}')\n",
    "      \n",
    "    for depth in range(1, 9):\n",
    "        \n",
    "        # skip empty depth\n",
    "        if data[tag][f'{depth}'].isnull().all():\n",
    "            continue    \n",
    "    \n",
    "        plt.subplot(2, 4, depth)\n",
    "        sns.boxplot(y=f'{depth}', data=temp_df)\n",
    "        plt.xlabel(f'Depth: {depth}')  \n",
    "        plt.ylabel('Count of new_contours')\n",
    "    \n",
    "    plt.show()\n",
    "    "
   ],
   "metadata": {
    "collapsed": false,
    "ExecuteTime": {
     "end_time": "2024-02-15T11:42:24.005981Z",
     "start_time": "2024-02-15T11:42:23.011934600Z"
    }
   },
   "id": "89abf441873b28ac",
   "execution_count": 45
  },
  {
   "cell_type": "code",
   "outputs": [
    {
     "data": {
      "text/plain": "             tag    detect    decode        time\n0         origin  0.796266  0.587662  186.811594\n1  w_filters_d32  0.862825  0.616071  218.997977\n2   morf_c&o_d32  0.868506     0.625  251.534142\n3     morf_c_d32  0.866883  0.627435  232.602334\n4  w_filters_m20  0.862825   0.61526  211.730188",
      "text/html": "<div>\n<style scoped>\n    .dataframe tbody tr th:only-of-type {\n        vertical-align: middle;\n    }\n\n    .dataframe tbody tr th {\n        vertical-align: top;\n    }\n\n    .dataframe thead th {\n        text-align: right;\n    }\n</style>\n<table border=\"1\" class=\"dataframe\">\n  <thead>\n    <tr style=\"text-align: right;\">\n      <th></th>\n      <th>tag</th>\n      <th>detect</th>\n      <th>decode</th>\n      <th>time</th>\n    </tr>\n  </thead>\n  <tbody>\n    <tr>\n      <th>0</th>\n      <td>origin</td>\n      <td>0.796266</td>\n      <td>0.587662</td>\n      <td>186.811594</td>\n    </tr>\n    <tr>\n      <th>1</th>\n      <td>w_filters_d32</td>\n      <td>0.862825</td>\n      <td>0.616071</td>\n      <td>218.997977</td>\n    </tr>\n    <tr>\n      <th>2</th>\n      <td>morf_c&amp;o_d32</td>\n      <td>0.868506</td>\n      <td>0.625</td>\n      <td>251.534142</td>\n    </tr>\n    <tr>\n      <th>3</th>\n      <td>morf_c_d32</td>\n      <td>0.866883</td>\n      <td>0.627435</td>\n      <td>232.602334</td>\n    </tr>\n    <tr>\n      <th>4</th>\n      <td>w_filters_m20</td>\n      <td>0.862825</td>\n      <td>0.61526</td>\n      <td>211.730188</td>\n    </tr>\n  </tbody>\n</table>\n</div>"
     },
     "execution_count": 52,
     "metadata": {},
     "output_type": "execute_result"
    }
   ],
   "source": [
    "# check_benchmark\n",
    "path = 'benchmark\\\\'\n",
    "\n",
    "benchmark_results = pd.DataFrame({'tag': most_actual_tags, \n",
    "                                  'detect': [None] * len(most_actual_tags), \n",
    "                                  'decode':  [None] * len(most_actual_tags), \n",
    "                                  'time':  [None] * len(most_actual_tags)})\n",
    "for tag in most_actual_tags:\n",
    "    curr_path = path + tag + '.txt'\n",
    "    file = open(curr_path)\n",
    "    \n",
    "    detect, decode, time = float(file.readline().split()[1]), float(file.readline().split()[1]), float(file.readline())\n",
    "    \n",
    "    benchmark_results.loc[benchmark_results['tag'] == tag, 'detect'] = detect\n",
    "    benchmark_results.loc[benchmark_results['tag'] == tag, 'decode'] = decode\n",
    "    benchmark_results.loc[benchmark_results['tag'] == tag, 'time'] = time\n",
    "    \n",
    "benchmark_results.head()"
   ],
   "metadata": {
    "collapsed": false,
    "ExecuteTime": {
     "end_time": "2024-02-15T11:45:43.070430700Z",
     "start_time": "2024-02-15T11:45:43.044526200Z"
    }
   },
   "id": "8ae8af2f08cb4bc9",
   "execution_count": 52
  },
  {
   "cell_type": "code",
   "outputs": [
    {
     "data": {
      "text/plain": "<matplotlib.legend.Legend at 0x2213374bf10>"
     },
     "execution_count": 53,
     "metadata": {},
     "output_type": "execute_result"
    }
   ],
   "source": [
    "fig, ax = plt.subplots(figsize=(15, 8))\n",
    "\n",
    "colors = ['skyblue', 'lightgreen']\n",
    "bar_width = 0.1\n",
    "\n",
    "# creating bar_plot to compare detect and decode\n",
    "x = np.arange(len(most_actual_tags))\n",
    "for i, col in enumerate(['detect', 'decode']):\n",
    "    y = benchmark_results[col].tolist()\n",
    "    ax.bar(x + i*bar_width, y, bar_width, label=col, color=colors[i])\n",
    "\n",
    "# some plot settings\n",
    "ax.set_xticks(x + bar_width)\n",
    "ax.set_xticklabels(most_actual_tags)\n",
    "ax.set_xlabel('Tags')\n",
    "ax.set_ylabel('Values')\n",
    "ax.set_title('Comparison of Tags by Columns')\n",
    "ax.legend()\n",
    "\n"
   ],
   "metadata": {
    "collapsed": false,
    "ExecuteTime": {
     "end_time": "2024-02-15T11:46:42.663579800Z",
     "start_time": "2024-02-15T11:46:42.558386Z"
    }
   },
   "id": "7d1de994f7ba458",
   "execution_count": 53
  },
  {
   "cell_type": "code",
   "outputs": [],
   "source": [
    "# bar plot for 'time' \n",
    "fig, ax = plt.subplots(figsize=(10, 8))\n",
    "plt.subplot(1, 1, 1)\n",
    "plt.bar(x,benchmark_results['time'].tolist(), bar_width, label='time', color='skyblue')\n",
    "\n",
    "ax.set_xticks(x + bar_width)\n",
    "ax.set_xticklabels(most_actual_tags)\n",
    "ax.set_xlabel('Tags')\n",
    "ax.set_ylabel('Values')\n",
    "ax.set_title('Comparison of Tags by time')\n",
    "ax.legend()\n",
    "\n",
    "plt.show()"
   ],
   "metadata": {
    "collapsed": false,
    "ExecuteTime": {
     "end_time": "2024-02-15T11:47:23.717055100Z",
     "start_time": "2024-02-15T11:47:23.624447900Z"
    }
   },
   "id": "146e8aa906ddfe22",
   "execution_count": 54
  },
  {
   "cell_type": "code",
   "outputs": [],
   "source": [],
   "metadata": {
    "collapsed": false
   },
   "id": "793e2d3566ba8af1"
  }
 ],
 "metadata": {
  "kernelspec": {
   "display_name": "Python 3",
   "language": "python",
   "name": "python3"
  },
  "language_info": {
   "codemirror_mode": {
    "name": "ipython",
    "version": 2
   },
   "file_extension": ".py",
   "mimetype": "text/x-python",
   "name": "python",
   "nbconvert_exporter": "python",
   "pygments_lexer": "ipython2",
   "version": "3.10.9"
  }
 },
 "nbformat": 4,
 "nbformat_minor": 5
}
